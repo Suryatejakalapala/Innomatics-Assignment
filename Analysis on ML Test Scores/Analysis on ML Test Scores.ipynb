{
 "cells": [
  {
   "cell_type": "markdown",
   "id": "c2acebdc",
   "metadata": {},
   "source": [
    "# Analysis on ML test Scores"
   ]
  },
  {
   "cell_type": "code",
   "execution_count": 59,
   "id": "2bac650a",
   "metadata": {},
   "outputs": [],
   "source": [
    "import pandas as pd #importing the pandas"
   ]
  },
  {
   "cell_type": "code",
   "execution_count": 60,
   "id": "8f6c648b",
   "metadata": {},
   "outputs": [],
   "source": [
    "df = pd.read_csv('scores_data.csv') # reading the data"
   ]
  },
  {
   "cell_type": "code",
   "execution_count": 61,
   "id": "01a30985",
   "metadata": {},
   "outputs": [
    {
     "data": {
      "text/html": [
       "<div>\n",
       "<style scoped>\n",
       "    .dataframe tbody tr th:only-of-type {\n",
       "        vertical-align: middle;\n",
       "    }\n",
       "\n",
       "    .dataframe tbody tr th {\n",
       "        vertical-align: top;\n",
       "    }\n",
       "\n",
       "    .dataframe thead th {\n",
       "        text-align: right;\n",
       "    }\n",
       "</style>\n",
       "<table border=\"1\" class=\"dataframe\">\n",
       "  <thead>\n",
       "    <tr style=\"text-align: right;\">\n",
       "      <th></th>\n",
       "      <th>Batch</th>\n",
       "      <th>User_ID</th>\n",
       "      <th>Score</th>\n",
       "    </tr>\n",
       "  </thead>\n",
       "  <tbody>\n",
       "    <tr>\n",
       "      <th>0</th>\n",
       "      <td>AI_ELITE_7</td>\n",
       "      <td>uid_149</td>\n",
       "      <td>6 / 7</td>\n",
       "    </tr>\n",
       "    <tr>\n",
       "      <th>1</th>\n",
       "      <td>AI_ELITE_7</td>\n",
       "      <td>uid_148</td>\n",
       "      <td>6 / 7</td>\n",
       "    </tr>\n",
       "    <tr>\n",
       "      <th>2</th>\n",
       "      <td>AI_ELITE_7</td>\n",
       "      <td>uid_147</td>\n",
       "      <td>7 / 7</td>\n",
       "    </tr>\n",
       "    <tr>\n",
       "      <th>3</th>\n",
       "      <td>AI_ELITE_7</td>\n",
       "      <td>uid_146</td>\n",
       "      <td>7 / 7</td>\n",
       "    </tr>\n",
       "    <tr>\n",
       "      <th>4</th>\n",
       "      <td>AI_ELITE_7</td>\n",
       "      <td>uid_145</td>\n",
       "      <td>4 / 7</td>\n",
       "    </tr>\n",
       "  </tbody>\n",
       "</table>\n",
       "</div>"
      ],
      "text/plain": [
       "       Batch  User_ID     Score   \n",
       "0  AI_ELITE_7  uid_149       6 / 7\n",
       "1  AI_ELITE_7  uid_148       6 / 7\n",
       "2  AI_ELITE_7  uid_147       7 / 7\n",
       "3  AI_ELITE_7  uid_146       7 / 7\n",
       "4  AI_ELITE_7  uid_145       4 / 7"
      ]
     },
     "execution_count": 61,
     "metadata": {},
     "output_type": "execute_result"
    }
   ],
   "source": [
    "df.head()"
   ]
  },
  {
   "cell_type": "code",
   "execution_count": 62,
   "id": "c95fa26f",
   "metadata": {},
   "outputs": [
    {
     "name": "stdout",
     "output_type": "stream",
     "text": [
      "<class 'pandas.core.frame.DataFrame'>\n",
      "RangeIndex: 149 entries, 0 to 148\n",
      "Data columns (total 3 columns):\n",
      " #   Column       Non-Null Count  Dtype \n",
      "---  ------       --------------  ----- \n",
      " 0   Batch        149 non-null    object\n",
      " 1   User_ID      149 non-null    object\n",
      " 2      Score     149 non-null    object\n",
      "dtypes: object(3)\n",
      "memory usage: 3.6+ KB\n"
     ]
    }
   ],
   "source": [
    "df.info()"
   ]
  },
  {
   "cell_type": "code",
   "execution_count": 70,
   "id": "f2baecf7",
   "metadata": {},
   "outputs": [
    {
     "data": {
      "text/plain": [
       "Batch      0\n",
       "User_ID    0\n",
       "Score      0\n",
       "dtype: int64"
      ]
     },
     "execution_count": 70,
     "metadata": {},
     "output_type": "execute_result"
    }
   ],
   "source": [
    "df.isnull().sum().sort_values(ascending = False) # There was no null values in the dataframe"
   ]
  },
  {
   "cell_type": "code",
   "execution_count": 63,
   "id": "51927585",
   "metadata": {},
   "outputs": [],
   "source": [
    "# Score in the Column have extra Spaces before it so we need to remove by replace spaces with nothing\n",
    "df.columns = df.columns.str.replace(' ' , '')"
   ]
  },
  {
   "cell_type": "code",
   "execution_count": 64,
   "id": "775945b3",
   "metadata": {},
   "outputs": [
    {
     "name": "stdout",
     "output_type": "stream",
     "text": [
      "<class 'pandas.core.frame.DataFrame'>\n",
      "RangeIndex: 149 entries, 0 to 148\n",
      "Data columns (total 3 columns):\n",
      " #   Column   Non-Null Count  Dtype \n",
      "---  ------   --------------  ----- \n",
      " 0   Batch    149 non-null    object\n",
      " 1   User_ID  149 non-null    object\n",
      " 2   Score    149 non-null    object\n",
      "dtypes: object(3)\n",
      "memory usage: 3.6+ KB\n"
     ]
    }
   ],
   "source": [
    "df.info()"
   ]
  },
  {
   "cell_type": "code",
   "execution_count": 65,
   "id": "685c2566",
   "metadata": {},
   "outputs": [],
   "source": [
    "# Cleaning the Score Feature for better understading and changing the type into int\n",
    "df['Score'] = df['Score'].str.replace('/' , '')\n",
    "df['Score'] = df['Score'].str.replace(' 7' , '')\n",
    "df['Score'] = df['Score'].astype('int')"
   ]
  },
  {
   "cell_type": "code",
   "execution_count": 66,
   "id": "db2cf5ab",
   "metadata": {},
   "outputs": [
    {
     "data": {
      "text/plain": [
       "0      6\n",
       "1      6\n",
       "2      7\n",
       "3      7\n",
       "4      4\n",
       "      ..\n",
       "144    4\n",
       "145    4\n",
       "146    4\n",
       "147    3\n",
       "148    2\n",
       "Name: Score, Length: 149, dtype: int32"
      ]
     },
     "execution_count": 66,
     "metadata": {},
     "output_type": "execute_result"
    }
   ],
   "source": [
    "df.Score"
   ]
  },
  {
   "cell_type": "code",
   "execution_count": 67,
   "id": "e105e792",
   "metadata": {},
   "outputs": [],
   "source": [
    "# Score is a Numerical variable"
   ]
  },
  {
   "cell_type": "code",
   "execution_count": 68,
   "id": "c98e9aaa",
   "metadata": {},
   "outputs": [
    {
     "data": {
      "text/plain": [
       "array([6, 7, 4, 5, 3, 2, 0, 1])"
      ]
     },
     "execution_count": 68,
     "metadata": {},
     "output_type": "execute_result"
    }
   ],
   "source": [
    "df.Score.unique()"
   ]
  },
  {
   "cell_type": "code",
   "execution_count": 69,
   "id": "9a63641d",
   "metadata": {},
   "outputs": [
    {
     "data": {
      "text/plain": [
       "array(['AI_ELITE_7', 'AI_ELITE_6', 'AI_ELITE_4'], dtype=object)"
      ]
     },
     "execution_count": 69,
     "metadata": {},
     "output_type": "execute_result"
    }
   ],
   "source": [
    "df.Batch.unique() # Batch is a Categorical variable"
   ]
  },
  {
   "cell_type": "code",
   "execution_count": 74,
   "id": "bcdcdedb",
   "metadata": {},
   "outputs": [
    {
     "data": {
      "text/plain": [
       "count    149.000000\n",
       "mean       4.382550\n",
       "std        1.592199\n",
       "min        0.000000\n",
       "25%        3.000000\n",
       "50%        4.000000\n",
       "75%        5.000000\n",
       "max        7.000000\n",
       "Name: Score, dtype: float64"
      ]
     },
     "execution_count": 74,
     "metadata": {},
     "output_type": "execute_result"
    }
   ],
   "source": [
    "df.Score.describe()"
   ]
  },
  {
   "cell_type": "code",
   "execution_count": 77,
   "id": "acd6bfc2",
   "metadata": {},
   "outputs": [
    {
     "data": {
      "text/plain": [
       "<AxesSubplot:>"
      ]
     },
     "execution_count": 77,
     "metadata": {},
     "output_type": "execute_result"
    },
    {
     "data": {
      "image/png": "[encoded data removed]",
      "text/plain": [
       "<Figure size 432x288 with 1 Axes>"
      ]
     },
     "metadata": {
      "needs_background": "light"
     },
     "output_type": "display_data"
    }
   ],
   "source": [
    "df.Score.plot(kind = 'box')"
   ]
  },
  {
   "cell_type": "code",
   "execution_count": null,
   "id": "c0bb7887",
   "metadata": {},
   "outputs": [],
   "source": [
    "# There are no outliers in Score"
   ]
  },
  {
   "cell_type": "code",
   "execution_count": 78,
   "id": "bb24872b",
   "metadata": {},
   "outputs": [
    {
     "data": {
      "text/plain": [
       "<AxesSubplot:ylabel='Density'>"
      ]
     },
     "execution_count": 78,
     "metadata": {},
     "output_type": "execute_result"
    },
    {
     "data": {
      "image/png": "[encoded data removed]",
      "text/plain": [
       "<Figure size 432x288 with 1 Axes>"
      ]
     },
     "metadata": {
      "needs_background": "light"
     },
     "output_type": "display_data"
    }
   ],
   "source": [
    "#lets see the distribution of the Score\n",
    "df.Score.plot(kind = 'kde')"
   ]
  },
  {
   "cell_type": "code",
   "execution_count": 79,
   "id": "c1b0cc98",
   "metadata": {},
   "outputs": [],
   "source": [
    "# From the above graph we can say that there are many students who got 4 marks"
   ]
  },
  {
   "cell_type": "markdown",
   "id": "a868c191",
   "metadata": {},
   "source": [
    "## Bivariant Analysis"
   ]
  },
  {
   "cell_type": "code",
   "execution_count": 75,
   "id": "3d285451",
   "metadata": {},
   "outputs": [],
   "source": [
    "# The User_id wont effect both Batch and Score ofc its just a identification for the Student"
   ]
  },
  {
   "cell_type": "code",
   "execution_count": 82,
   "id": "b5d526c4",
   "metadata": {},
   "outputs": [
    {
     "data": {
      "image/png": "[encoded data removed]",
      "text/plain": [
       "<Figure size 432x288 with 1 Axes>"
      ]
     },
     "metadata": {
      "needs_background": "light"
     },
     "output_type": "display_data"
    }
   ],
   "source": [
    "boxplot = df.boxplot(by='Batch', column=['Score'], grid=False)"
   ]
  },
  {
   "cell_type": "code",
   "execution_count": 84,
   "id": "0cdeb618",
   "metadata": {},
   "outputs": [
    {
     "data": {
      "text/plain": [
       "<AxesSubplot:xlabel='Batch', ylabel='Score'>"
      ]
     },
     "execution_count": 84,
     "metadata": {},
     "output_type": "execute_result"
    },
    {
     "data": {
      "image/png": "[encoded data removed]",
      "text/plain": [
       "<Figure size 432x288 with 1 Axes>"
      ]
     },
     "metadata": {
      "needs_background": "light"
     },
     "output_type": "display_data"
    }
   ],
   "source": [
    "sns.violinplot(x = df['Batch'] , y = df['Score'])"
   ]
  },
  {
   "cell_type": "code",
   "execution_count": 91,
   "id": "78beefb5",
   "metadata": {},
   "outputs": [
    {
     "data": {
      "text/plain": [
       "count    53.000000\n",
       "mean      5.056604\n",
       "std       1.446682\n",
       "min       2.000000\n",
       "25%       4.000000\n",
       "50%       5.000000\n",
       "75%       6.000000\n",
       "max       7.000000\n",
       "Name: AI_ELITE_7, dtype: float64"
      ]
     },
     "execution_count": 91,
     "metadata": {},
     "output_type": "execute_result"
    }
   ],
   "source": [
    "batch_stats = df.groupby('Batch')['Score'].describe()\n",
    "batch_stats.loc['AI_ELITE_7']"
   ]
  },
  {
   "cell_type": "code",
   "execution_count": 92,
   "id": "1fb0d17a",
   "metadata": {},
   "outputs": [
    {
     "data": {
      "text/plain": [
       "count    48.000000\n",
       "mean      4.229167\n",
       "std       1.640441\n",
       "min       0.000000\n",
       "25%       3.000000\n",
       "50%       4.000000\n",
       "75%       5.000000\n",
       "max       7.000000\n",
       "Name: AI_ELITE_6, dtype: float64"
      ]
     },
     "execution_count": 92,
     "metadata": {},
     "output_type": "execute_result"
    }
   ],
   "source": [
    "batch_stats = df.groupby('Batch')['Score'].describe()\n",
    "batch_stats.loc['AI_ELITE_6']"
   ]
  },
  {
   "cell_type": "code",
   "execution_count": 93,
   "id": "4d68ab37",
   "metadata": {},
   "outputs": [
    {
     "data": {
      "text/plain": [
       "count    48.000000\n",
       "mean      3.791667\n",
       "std       1.443376\n",
       "min       0.000000\n",
       "25%       3.000000\n",
       "50%       4.000000\n",
       "75%       4.250000\n",
       "max       7.000000\n",
       "Name: AI_ELITE_4, dtype: float64"
      ]
     },
     "execution_count": 93,
     "metadata": {},
     "output_type": "execute_result"
    }
   ],
   "source": [
    "batch_stats = df.groupby('Batch')['Score'].describe()\n",
    "batch_stats.loc['AI_ELITE_4']"
   ]
  },
  {
   "cell_type": "markdown",
   "id": "c5b5ea19",
   "metadata": {},
   "source": [
    "# Batch AI_ELITE_7 has been performing well and AI_ELITE_4 performing less compared to other batches"
   ]
  }
 ],
 "metadata": {
  "kernelspec": {
   "display_name": "Python 3 (ipykernel)",
   "language": "python",
   "name": "python3"
  },
  "language_info": {
   "codemirror_mode": {
    "name": "ipython",
    "version": 3
   },
   "file_extension": ".py",
   "mimetype": "text/x-python",
   "name": "python",
   "nbconvert_exporter": "python",
   "pygments_lexer": "ipython3",
   "version": "3.9.12"
  }
 },
 "nbformat": 4,
 "nbformat_minor": 5
}
