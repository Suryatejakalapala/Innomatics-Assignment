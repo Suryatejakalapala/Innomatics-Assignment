{
 "cells": [
  {
   "cell_type": "markdown",
   "id": "d0094708",
   "metadata": {},
   "source": [
    "# Programming Task - 1 (For Advance Python Programmers)"
   ]
  },
  {
   "cell_type": "markdown",
   "id": "de17c016",
   "metadata": {},
   "source": [
    "## 1480. Running Sum of 1d Array "
   ]
  },
  {
   "cell_type": "code",
   "execution_count": null,
   "id": "1f016689",
   "metadata": {},
   "outputs": [],
   "source": [
    "class Solution:\n",
    "    def runningSum(self, nums: List[int]) -> List[int]:\n",
    "        for i in range(1, len(nums)):\n",
    "            nums[i] += nums[i-1]\n",
    "        return nums"
   ]
  },
  {
   "cell_type": "markdown",
   "id": "499f0c45",
   "metadata": {},
   "source": [
    "## 1470. Shuffle the Array"
   ]
  },
  {
   "cell_type": "code",
   "execution_count": null,
   "id": "a3c27ed4",
   "metadata": {},
   "outputs": [],
   "source": [
    "class Solution:\n",
    "    def shuffle(self, nums: List[int], n: int) -> List[int]:\n",
    "        arr =[]\n",
    "        for i in range(n):\n",
    "            arr.append(nums[i])\n",
    "            arr.append(nums[i+n])\n",
    "        return arr"
   ]
  },
  {
   "cell_type": "markdown",
   "id": "6201c281",
   "metadata": {},
   "source": [
    "## 1431. Kids With the Greatest Number of Candies"
   ]
  },
  {
   "cell_type": "code",
   "execution_count": null,
   "id": "507284dd",
   "metadata": {},
   "outputs": [],
   "source": [
    "class Solution:\n",
    "    def kidsWithCandies(self, candies: List[int], extraCandies: int) -> List[bool]:\n",
    "        arr = []\n",
    "        max = 0\n",
    "        for i in range(len(candies)):\n",
    "            if (max < candies[i]):\n",
    "                max = candies[i]\n",
    "        for i in range(len(candies)):\n",
    "            if(candies[i]+extraCandies >= max):\n",
    "                arr.append(True)\n",
    "            else:\n",
    "                arr.append(False) \n",
    "        return arr"
   ]
  }
 ],
 "metadata": {
  "kernelspec": {
   "display_name": "Python 3 (ipykernel)",
   "language": "python",
   "name": "python3"
  },
  "language_info": {
   "codemirror_mode": {
    "name": "ipython",
    "version": 3
   },
   "file_extension": ".py",
   "mimetype": "text/x-python",
   "name": "python",
   "nbconvert_exporter": "python",
   "pygments_lexer": "ipython3",
   "version": "3.9.12"
  }
 },
 "nbformat": 4,
 "nbformat_minor": 5
}
