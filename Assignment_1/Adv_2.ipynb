{
 "cells": [
  {
   "cell_type": "markdown",
   "id": "49eafd47",
   "metadata": {},
   "source": [
    "# Programming Task - 2 (For Advance Python Programmers)"
   ]
  },
  {
   "cell_type": "markdown",
   "id": "028d82a2",
   "metadata": {},
   "source": [
    "## 1108. Defanging an IP Address"
   ]
  },
  {
   "cell_type": "code",
   "execution_count": null,
   "id": "4cff4b45",
   "metadata": {},
   "outputs": [],
   "source": [
    "class Solution:\n",
    "    def defangIPaddr(self, address: str) -> str:\n",
    "        address = address.replace(\".\", '[.]')\n",
    "        return address"
   ]
  },
  {
   "cell_type": "markdown",
   "id": "c5c186f8",
   "metadata": {},
   "source": [
    "## 1295. Find Numbers with Even Number of Digits"
   ]
  },
  {
   "cell_type": "code",
   "execution_count": null,
   "id": "7d9c2cbd",
   "metadata": {},
   "outputs": [],
   "source": [
    "class Solution:\n",
    "    def findNumbers(self, nums: List[int]) -> int:\n",
    "        nums = [str(x) for x in nums]\n",
    "        ans = 0\n",
    "        for num in nums:\n",
    "            if len(num) % 2 == 0:\n",
    "                ans += 1\n",
    "        return ans"
   ]
  },
  {
   "cell_type": "markdown",
   "id": "b843a831",
   "metadata": {},
   "source": [
    "## 1512. Number of Good Pairs"
   ]
  },
  {
   "cell_type": "code",
   "execution_count": null,
   "id": "38fae9f8",
   "metadata": {},
   "outputs": [],
   "source": [
    "class Solution:\n",
    "    def numIdenticalPairs(self, nums: List[int]) -> int:\n",
    "        good_pairs = [(i,j) for i in range(len(nums)) for j in range(len(nums)) if nums[i] == nums[j] and i<j ]\n",
    "        return len(good_pairs)"
   ]
  },
  {
   "cell_type": "markdown",
   "id": "a91723ed",
   "metadata": {},
   "source": [
    "## 1365. How Many Numbers Are Smaller Than the Current Number"
   ]
  },
  {
   "cell_type": "code",
   "execution_count": null,
   "id": "28edd64c",
   "metadata": {},
   "outputs": [],
   "source": [
    "class Solution:\n",
    "    def smallerNumbersThanCurrent(self, nums: List[int]) -> List[int]:\n",
    "        n = len(nums)\n",
    "        lst = [sum(1 for j in range(n) if j != i and nums[j] < nums[i]) for i in range(n)]\n",
    "        return lst"
   ]
  },
  {
   "cell_type": "markdown",
   "id": "cc4659f1",
   "metadata": {},
   "source": [
    "## 1281. Subtract the Product and Sum of Digits of an Integer"
   ]
  },
  {
   "cell_type": "code",
   "execution_count": null,
   "id": "c27b8bbb",
   "metadata": {},
   "outputs": [],
   "source": [
    "class Solution:\n",
    "    def subtractProductAndSum(self, n: int) -> int:\n",
    "        lst = []\n",
    "        while n > 0:\n",
    "            lst.append(n % 10)\n",
    "            n //= 10  \n",
    "\n",
    "        sum_lst = sum(lst) \n",
    "        prod = 1\n",
    "        for i in lst:\n",
    "            prod *= i\n",
    "\n",
    "        return prod - sum_lst"
   ]
  },
  {
   "cell_type": "markdown",
   "id": "bd88fe53",
   "metadata": {},
   "source": [
    "## 1486. XOR Operation in an Array"
   ]
  },
  {
   "cell_type": "code",
   "execution_count": null,
   "id": "99f22156",
   "metadata": {},
   "outputs": [],
   "source": [
    "class Solution:\n",
    "    def xorOperation(self, n: int, start: int) -> int:\n",
    "        nums = [start+2*i for i in range(n)]\n",
    "        x = 0\n",
    "        for i in nums:\n",
    "            x = x^i\n",
    "        return x"
   ]
  }
 ],
 "metadata": {
  "kernelspec": {
   "display_name": "Python 3 (ipykernel)",
   "language": "python",
   "name": "python3"
  },
  "language_info": {
   "codemirror_mode": {
    "name": "ipython",
    "version": 3
   },
   "file_extension": ".py",
   "mimetype": "text/x-python",
   "name": "python",
   "nbconvert_exporter": "python",
   "pygments_lexer": "ipython3",
   "version": "3.9.12"
  }
 },
 "nbformat": 4,
 "nbformat_minor": 5
}
