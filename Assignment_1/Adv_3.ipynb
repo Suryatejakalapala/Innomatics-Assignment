{
 "cells": [
  {
   "cell_type": "markdown",
   "id": "bc565512",
   "metadata": {},
   "source": [
    "# Programming Task - 3 (For Advance Python Programers)"
   ]
  },
  {
   "cell_type": "markdown",
   "id": "e9eb47e8",
   "metadata": {},
   "source": [
    "## 1464. Maximum Product of Two Elements in an Array"
   ]
  },
  {
   "cell_type": "code",
   "execution_count": null,
   "id": "c91be072",
   "metadata": {},
   "outputs": [],
   "source": [
    "class Solution:\n",
    "    def maxProduct(self, nums: List[int]) -> int:\n",
    "        lst = sorted(nums)\n",
    "        return (lst[-1]-1)*(lst[-2]-1)"
   ]
  },
  {
   "cell_type": "markdown",
   "id": "57f79e19",
   "metadata": {},
   "source": [
    "## 1395. Count Number of Teams"
   ]
  },
  {
   "cell_type": "code",
   "execution_count": null,
   "id": "e9b46ba2",
   "metadata": {},
   "outputs": [],
   "source": [
    "class Solution:\n",
    "    def numTeams(self, rating: List[int]) -> int:\n",
    "        n = len(rating)\n",
    "        ans = 0\n",
    "        for i in range(1, n - 1):\n",
    "            left_less, left_more, right_less, right_more = 0, 0, 0, 0\n",
    "            for j in range(i):\n",
    "                if rating[j] < rating[i]:\n",
    "                    left_less += 1\n",
    "                else:\n",
    "                    left_more += 1\n",
    "            for j in range(i + 1, n):\n",
    "                if rating[j] < rating[i]:\n",
    "                    right_less += 1\n",
    "                else:\n",
    "                    right_more += 1\n",
    "            ans += (left_less * right_more) + (left_more * right_less)\n",
    "        return ans"
   ]
  },
  {
   "cell_type": "markdown",
   "id": "0a4c1819",
   "metadata": {},
   "source": [
    "## 1450. Number of Students Doing Homework at a Given Time"
   ]
  },
  {
   "cell_type": "code",
   "execution_count": null,
   "id": "6bca0e8a",
   "metadata": {},
   "outputs": [],
   "source": [
    "class Solution:\n",
    "    def busyStudent(self, startTime: List[int], endTime: List[int], queryTime: int) -> int:\n",
    "        count = 0\n",
    "        for i in range(len(startTime)):\n",
    "            if startTime[i] <= queryTime and queryTime <= endTime[i]:\n",
    "                count+= 1\n",
    "        return count"
   ]
  },
  {
   "cell_type": "markdown",
   "id": "8b893ac5",
   "metadata": {},
   "source": [
    "## 1342. Number of Steps to Reduce a Number to Zero"
   ]
  },
  {
   "cell_type": "code",
   "execution_count": null,
   "id": "928c0eee",
   "metadata": {},
   "outputs": [],
   "source": [
    "class Solution:\n",
    "    def numberOfSteps(self, num: int) -> int:\n",
    "        count = 0\n",
    "        while(num >0):\n",
    "            if(num % 2 == 0):\n",
    "                num = num/2\n",
    "            else:\n",
    "                num -= 1\n",
    "            count+= 1\n",
    "        return count"
   ]
  },
  {
   "cell_type": "markdown",
   "id": "9593b648",
   "metadata": {},
   "source": [
    "## 338. Counting Bits"
   ]
  },
  {
   "cell_type": "code",
   "execution_count": null,
   "id": "d07d0348",
   "metadata": {},
   "outputs": [],
   "source": [
    "class Solution:\n",
    "    def countBits(self, num: int) -> List[int]:\n",
    "        return list(map(lambda x:bin(x).count('1'), range(num+1)))"
   ]
  }
 ],
 "metadata": {
  "kernelspec": {
   "display_name": "Python 3 (ipykernel)",
   "language": "python",
   "name": "python3"
  },
  "language_info": {
   "codemirror_mode": {
    "name": "ipython",
    "version": 3
   },
   "file_extension": ".py",
   "mimetype": "text/x-python",
   "name": "python",
   "nbconvert_exporter": "python",
   "pygments_lexer": "ipython3",
   "version": "3.9.12"
  }
 },
 "nbformat": 4,
 "nbformat_minor": 5
}
