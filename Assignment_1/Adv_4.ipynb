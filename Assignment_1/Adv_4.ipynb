{
 "cells": [
  {
   "cell_type": "markdown",
   "id": "3a6ab626",
   "metadata": {},
   "source": [
    "# Programming Task - 4 (For Advanced Python Programmers)"
   ]
  },
  {
   "cell_type": "markdown",
   "id": "f9a2ab12",
   "metadata": {},
   "source": [
    "## 136. Single Number"
   ]
  },
  {
   "cell_type": "code",
   "execution_count": null,
   "id": "50eae31b",
   "metadata": {},
   "outputs": [],
   "source": [
    "class Solution:\n",
    "    def singleNumber(self, nums: List[int]) -> int:\n",
    "        result = 0\n",
    "        for num in nums:\n",
    "            result ^= num\n",
    "        return result"
   ]
  },
  {
   "cell_type": "markdown",
   "id": "a0f40a77",
   "metadata": {},
   "source": [
    "## 1356. Sort Integers by The Number of 1 Bits"
   ]
  },
  {
   "cell_type": "code",
   "execution_count": null,
   "id": "9ed79fcf",
   "metadata": {},
   "outputs": [],
   "source": [
    "class Solution:\n",
    "    def sortByBits(self, arr: List[int]) -> List[int]:\n",
    "        return sorted(arr, key = lambda item: (str(bin(item))[2:].count(\"1\"), item))"
   ]
  },
  {
   "cell_type": "markdown",
   "id": "f822b716",
   "metadata": {},
   "source": [
    "## 260. Single Number III"
   ]
  },
  {
   "cell_type": "code",
   "execution_count": null,
   "id": "0b6b59c8",
   "metadata": {},
   "outputs": [],
   "source": [
    "class Solution:\n",
    "    def singleNumber(self, nums: List[int]) -> List[int]:\n",
    "        dc=defaultdict(lambda:0)\n",
    "        for a in nums:\n",
    "            dc[a]+=1\n",
    "        ans=[]\n",
    "        for a in dc:\n",
    "            if(dc[a]==1):\n",
    "                ans.append(a)\n",
    "        return ans"
   ]
  },
  {
   "cell_type": "markdown",
   "id": "ab420e74",
   "metadata": {},
   "source": [
    "## 78. Subsets"
   ]
  },
  {
   "cell_type": "code",
   "execution_count": null,
   "id": "70ca365f",
   "metadata": {},
   "outputs": [],
   "source": [
    "class Solution:\n",
    "    def subsets(self, nums: List[int]) -> List[List[int]]:\n",
    "        result = []\n",
    "        def backtrack(subset, start, nums):\n",
    "            result.append(subset[:])\n",
    "            for i in range(start, len(nums)):\n",
    "                subset.append(nums[i])\n",
    "                backtrack(subset, i + 1, nums)\n",
    "                subset.pop()\n",
    "        backtrack([], 0, nums)\n",
    "        return result"
   ]
  }
 ],
 "metadata": {
  "kernelspec": {
   "display_name": "Python 3 (ipykernel)",
   "language": "python",
   "name": "python3"
  },
  "language_info": {
   "codemirror_mode": {
    "name": "ipython",
    "version": 3
   },
   "file_extension": ".py",
   "mimetype": "text/x-python",
   "name": "python",
   "nbconvert_exporter": "python",
   "pygments_lexer": "ipython3",
   "version": "3.9.12"
  }
 },
 "nbformat": 4,
 "nbformat_minor": 5
}
