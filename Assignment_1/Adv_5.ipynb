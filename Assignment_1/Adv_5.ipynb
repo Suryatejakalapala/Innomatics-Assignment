{
 "cells": [
  {
   "cell_type": "markdown",
   "id": "86faddf1",
   "metadata": {},
   "source": [
    "# Programming Task - 5 (For Advance Python Programmers)"
   ]
  },
  {
   "cell_type": "markdown",
   "id": "119e3499",
   "metadata": {},
   "source": [
    "## 137. Single Number II"
   ]
  },
  {
   "cell_type": "code",
   "execution_count": null,
   "id": "9edd5fee",
   "metadata": {},
   "outputs": [],
   "source": [
    "class Solution:\n",
    "    def singleNumber(self, nums: List[int]) -> int:\n",
    "        di={}\n",
    "        for i in nums:\n",
    "            if i in di:\n",
    "                di[i]+=1\n",
    "            else:\n",
    "                di[i]=1\n",
    "        for i,j in enumerate(di):\n",
    "            if di[j]==1:\n",
    "                return j"
   ]
  },
  {
   "cell_type": "markdown",
   "id": "d5a2bbf4",
   "metadata": {},
   "source": [
    "## 461. Hamming Distance"
   ]
  },
  {
   "cell_type": "code",
   "execution_count": null,
   "id": "2bf9b1f8",
   "metadata": {},
   "outputs": [],
   "source": [
    "class Solution:\n",
    "    def hammingDistance(self, x: int, y: int) -> int:\n",
    "        count = 0\n",
    "        while x!= 0 or y!= 0:\n",
    "            if ((x >> 1 << 1) != x and (y >> 1 << 1) == y) or  ((x >> 1 << 1) == x and (y >> 1 << 1) != y):\n",
    "                count += 1\n",
    "            x = x >> 1\n",
    "            y = y >> 1\n",
    "        return count"
   ]
  },
  {
   "cell_type": "markdown",
   "id": "2c291038",
   "metadata": {},
   "source": [
    "-------------------------------------------------------------------------------------------------The End------------------------------------------------------------------------------------------------------"
   ]
  }
 ],
 "metadata": {
  "kernelspec": {
   "display_name": "Python 3 (ipykernel)",
   "language": "python",
   "name": "python3"
  },
  "language_info": {
   "codemirror_mode": {
    "name": "ipython",
    "version": 3
   },
   "file_extension": ".py",
   "mimetype": "text/x-python",
   "name": "python",
   "nbconvert_exporter": "python",
   "pygments_lexer": "ipython3",
   "version": "3.9.12"
  }
 },
 "nbformat": 4,
 "nbformat_minor": 5
}
